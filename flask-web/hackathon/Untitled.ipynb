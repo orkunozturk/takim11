{
 "cells": [
  {
   "cell_type": "code",
   "execution_count": 61,
   "metadata": {},
   "outputs": [],
   "source": [
    "import glob\n",
    "\n",
    "#read txt files\n",
    "txt_list = glob.glob(\"*.txt\")"
   ]
  },
  {
   "cell_type": "code",
   "execution_count": 62,
   "metadata": {},
   "outputs": [],
   "source": [
    "search_list = []\n",
    "for curr_file in txt_list:\n",
    "    with open(curr_file) as f:\n",
    "        lines = f.read().replace('\\n', '')\n",
    "        search_list.append(lines)"
   ]
  },
  {
   "cell_type": "code",
   "execution_count": 63,
   "metadata": {},
   "outputs": [],
   "source": [
    "def searchTextInFiles(search_keywords):\n",
    "    \n",
    "    success_list = []\n",
    "    cntr = 0\n",
    "    \n",
    "    for curr_file in search_list:\n",
    "        fileFlag = True\n",
    "        for curr_keyword in search_keywords:\n",
    "            if curr_keyword in curr_file:\n",
    "                pass\n",
    "            else:\n",
    "                fileFlag = False\n",
    "                break\n",
    "        if fileFlag:\n",
    "            success_list.append(txt_list[cntr].replace('.txt', ''))\n",
    "            \n",
    "        cntr += 1\n",
    "        \n",
    "    return success_list"
   ]
  },
  {
   "cell_type": "code",
   "execution_count": 64,
   "metadata": {},
   "outputs": [
    {
     "name": "stdout",
     "output_type": "stream",
     "text": [
      "['test2.pdf', 'test.pdf']\n"
     ]
    }
   ],
   "source": [
    "search_keywords = ['detecting', 'detect']\n",
    "print(searchTextInFiles(search_keywords))"
   ]
  },
  {
   "cell_type": "code",
   "execution_count": null,
   "metadata": {},
   "outputs": [],
   "source": []
  }
 ],
 "metadata": {
  "kernelspec": {
   "display_name": "Python 3",
   "language": "python",
   "name": "python3"
  },
  "language_info": {
   "codemirror_mode": {
    "name": "ipython",
    "version": 3
   },
   "file_extension": ".py",
   "mimetype": "text/x-python",
   "name": "python",
   "nbconvert_exporter": "python",
   "pygments_lexer": "ipython3",
   "version": "3.8.8"
  }
 },
 "nbformat": 4,
 "nbformat_minor": 2
}
